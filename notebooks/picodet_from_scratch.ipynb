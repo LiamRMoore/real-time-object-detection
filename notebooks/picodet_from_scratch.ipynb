{
 "cells": [
  {
   "cell_type": "markdown",
   "id": "3ef6bdf0",
   "metadata": {},
   "source": [
    "# picodet from scratch"
   ]
  },
  {
   "cell_type": "code",
   "execution_count": 1,
   "id": "c17ea0a6",
   "metadata": {},
   "outputs": [],
   "source": [
    "import sys\n",
    "from pathlib import Path\n",
    "from typing import Sequence, Optional, Union\n",
    "sys.path.insert(0, \"..\")\n",
    "\n",
    "import numpy as np\n",
    "import torch\n",
    "import torch.nn as nn\n",
    "from pydantic.dataclasses import dataclass\n",
    "from pydantic import Field\n",
    "from mmcv.cnn import ConvModule\n",
    "from mmdet.models.utils import make_divisible\n",
    "\n",
    "from src.esnet import ESNet\n",
    "from src.csppan import ChannelEqualiser, DarknetBottleneck"
   ]
  },
  {
   "cell_type": "markdown",
   "id": "12f2aed1",
   "metadata": {},
   "source": [
    "## Backbone: ESNet"
   ]
  },
  {
   "cell_type": "code",
   "execution_count": 2,
   "id": "eee5d6ae",
   "metadata": {},
   "outputs": [
    {
     "name": "stderr",
     "output_type": "stream",
     "text": [
      "/root/.cache/pypoetry/virtualenvs/dev-sZr6PvLR-py3.9/lib/python3.9/site-packages/mmcv/cnn/bricks/hsigmoid.py:31: UserWarning: In MMCV v1.4.4, we modified the default value of args to align with PyTorch official. Previous Implementation: Hsigmoid(x) = min(max((x + 1) / 2, 0), 1). Current Implementation: Hsigmoid(x) = min(max((x + 3) / 6, 0), 1).\n",
      "  warnings.warn(\n"
     ]
    }
   ],
   "source": [
    "esnet = ESNet()"
   ]
  },
  {
   "cell_type": "code",
   "execution_count": 3,
   "id": "d440211d",
   "metadata": {},
   "outputs": [
    {
     "data": {
      "text/plain": [
       "[2, 9, 12]"
      ]
     },
     "execution_count": 3,
     "metadata": {},
     "output_type": "execute_result"
    }
   ],
   "source": [
    "esnet.out_ixs"
   ]
  },
  {
   "cell_type": "code",
   "execution_count": 4,
   "id": "abbf5657",
   "metadata": {},
   "outputs": [
    {
     "name": "stdout",
     "output_type": "stream",
     "text": [
      "[torch.Size([1, 96, 40, 40]), torch.Size([1, 192, 20, 20]), torch.Size([1, 384, 10, 10])]\n"
     ]
    }
   ],
   "source": [
    "esnet.stage_out_channels\n",
    "test_input = torch.from_numpy(np.random.rand(1, 3, 320, 320).astype(np.float32))\n",
    "test_outputs = esnet(test_input)\n",
    "print([a.shape for a in test_outputs])"
   ]
  },
  {
   "cell_type": "code",
   "execution_count": 5,
   "id": "855cf666",
   "metadata": {},
   "outputs": [
    {
     "data": {
      "text/plain": [
       "torch.Tensor"
      ]
     },
     "execution_count": 5,
     "metadata": {},
     "output_type": "execute_result"
    }
   ],
   "source": [
    "type(test_outputs[0])"
   ]
  },
  {
   "cell_type": "markdown",
   "id": "def6ae8f",
   "metadata": {},
   "source": [
    "TODO: Factor inverted residual blocks into this codebase"
   ]
  },
  {
   "cell_type": "markdown",
   "id": "c4eb3d4b",
   "metadata": {},
   "source": [
    "## Neck: CSPPAN"
   ]
  },
  {
   "cell_type": "code",
   "execution_count": 6,
   "id": "68e4558b",
   "metadata": {},
   "outputs": [
    {
     "name": "stdout",
     "output_type": "stream",
     "text": [
      "[torch.Size([1, 128, 40, 40]), torch.Size([1, 128, 20, 20]), torch.Size([1, 128, 10, 10])]\n"
     ]
    }
   ],
   "source": [
    "c = ChannelEqualiser([96, 192, 384], 128)\n",
    "channel_eq_outputs = c(test_outputs)\n",
    "print([c.shape for c in channel_eq_outputs])"
   ]
  },
  {
   "cell_type": "code",
   "execution_count": 7,
   "id": "e0e270a6",
   "metadata": {},
   "outputs": [
    {
     "name": "stdout",
     "output_type": "stream",
     "text": [
      "torch.Size([1, 32, 100, 100])\n"
     ]
    }
   ],
   "source": [
    "test_input = torch.from_numpy(np.random.rand(1, 32, 100, 100).astype(np.float32))\n",
    "dbb = DarknetBottleneck(in_channels=32, out_channels=32)\n",
    "dbb_output = dbb(test_input)\n",
    "print(dbb_output.shape)"
   ]
  },
  {
   "cell_type": "code",
   "execution_count": 8,
   "id": "f088a59a",
   "metadata": {},
   "outputs": [],
   "source": [
    "from mmcv.runner import BaseModule"
   ]
  },
  {
   "cell_type": "code",
   "execution_count": 17,
   "id": "96e48cdf",
   "metadata": {},
   "outputs": [],
   "source": []
  },
  {
   "cell_type": "code",
   "execution_count": 21,
   "id": "3038ea15",
   "metadata": {},
   "outputs": [
    {
     "name": "stdout",
     "output_type": "stream",
     "text": [
      "torch.Size([1, 32, 100, 100])\n"
     ]
    }
   ],
   "source": [
    "cspl = CSPLayer(32, 32)\n",
    "cspl_output = cspl(test_input)\n",
    "print(cspl_output.shape)"
   ]
  },
  {
   "cell_type": "code",
   "execution_count": 11,
   "id": "3a455888",
   "metadata": {},
   "outputs": [],
   "source": [
    "@dataclass\n",
    "class CSPPAN(BaseModule):\n",
    "    in_channels: list[int]\n",
    "    out_channels: int\n",
    "    kernel_size: int = Field(default=5, description=\"Conv2D kernel size\")\n",
    "    n_features: int = Field(default=3, description=\"Number of output features of CSPPAN module\")\n",
    "    expansion: float = Field(default=0.5, description=\"...\")"
   ]
  },
  {
   "cell_type": "markdown",
   "id": "e983cd88",
   "metadata": {},
   "source": [
    "## Head: PicoDetHead"
   ]
  },
  {
   "cell_type": "code",
   "execution_count": 12,
   "id": "a6105248",
   "metadata": {},
   "outputs": [
    {
     "ename": "TypeError",
     "evalue": "dict.setdefault() takes no keyword arguments",
     "output_type": "error",
     "traceback": [
      "\u001b[0;31m---------------------------------------------------------------------------\u001b[0m",
      "\u001b[0;31mTypeError\u001b[0m                                 Traceback (most recent call last)",
      "Input \u001b[0;32mIn [12]\u001b[0m, in \u001b[0;36m<cell line: 2>\u001b[0;34m()\u001b[0m\n\u001b[1;32m      1\u001b[0m d \u001b[38;5;241m=\u001b[39m \u001b[38;5;28mdict\u001b[39m(a\u001b[38;5;241m=\u001b[39m\u001b[38;5;241m5\u001b[39m, b\u001b[38;5;241m=\u001b[39m\u001b[38;5;241m6\u001b[39m)\n\u001b[0;32m----> 2\u001b[0m \u001b[43md\u001b[49m\u001b[38;5;241;43m.\u001b[39;49m\u001b[43msetdefault\u001b[49m\u001b[43m(\u001b[49m\u001b[43mb\u001b[49m\u001b[38;5;241;43m=\u001b[39;49m\u001b[38;5;241;43m8\u001b[39;49m\u001b[43m)\u001b[49m\n",
      "\u001b[0;31mTypeError\u001b[0m: dict.setdefault() takes no keyword arguments"
     ]
    }
   ],
   "source": [
    "d = dict(a=5, b=6)\n",
    "d.setdefault(b=8)"
   ]
  },
  {
   "cell_type": "code",
   "execution_count": null,
   "id": "ad6dfd80",
   "metadata": {},
   "outputs": [],
   "source": [
    "d"
   ]
  },
  {
   "cell_type": "code",
   "execution_count": null,
   "id": "11e15c2d",
   "metadata": {},
   "outputs": [],
   "source": []
  }
 ],
 "metadata": {
  "kernelspec": {
   "display_name": "Python 3 (ipykernel)",
   "language": "python",
   "name": "python3"
  },
  "language_info": {
   "codemirror_mode": {
    "name": "ipython",
    "version": 3
   },
   "file_extension": ".py",
   "mimetype": "text/x-python",
   "name": "python",
   "nbconvert_exporter": "python",
   "pygments_lexer": "ipython3",
   "version": "3.9.5"
  }
 },
 "nbformat": 4,
 "nbformat_minor": 5
}
