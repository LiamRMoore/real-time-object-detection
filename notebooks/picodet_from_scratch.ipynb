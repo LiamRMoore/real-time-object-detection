{
 "cells": [
  {
   "cell_type": "markdown",
   "id": "3ef6bdf0",
   "metadata": {},
   "source": [
    "# picodet from scratch"
   ]
  },
  {
   "cell_type": "code",
   "execution_count": 3,
   "id": "c17ea0a6",
   "metadata": {},
   "outputs": [],
   "source": [
    "import sys\n",
    "from pathlib import Path\n",
    "from typing import Sequence, Optional, Union\n",
    "sys.path.insert(0, \"..\")\n",
    "\n",
    "import numpy as np\n",
    "import torch\n",
    "import torch.nn as nn\n",
    "from pydantic.dataclasses import dataclass\n",
    "from pydantic import Field\n",
    "from mmcv.cnn import ConvModule\n",
    "from mmcv.runner import BaseModule\n",
    "from mmdet.models.utils import make_divisible\n",
    "\n",
    "from src.esnet import ESNet\n",
    "from src.csppan import ChannelEqualiser"
   ]
  },
  {
   "cell_type": "markdown",
   "id": "12f2aed1",
   "metadata": {},
   "source": [
    "## Backbone: ESNet"
   ]
  },
  {
   "cell_type": "code",
   "execution_count": 8,
   "id": "eee5d6ae",
   "metadata": {},
   "outputs": [
    {
     "name": "stderr",
     "output_type": "stream",
     "text": [
      "/root/.cache/pypoetry/virtualenvs/dev-sZr6PvLR-py3.9/lib/python3.9/site-packages/mmcv/cnn/bricks/hsigmoid.py:31: UserWarning: In MMCV v1.4.4, we modified the default value of args to align with PyTorch official. Previous Implementation: Hsigmoid(x) = min(max((x + 1) / 2, 0), 1). Current Implementation: Hsigmoid(x) = min(max((x + 3) / 6, 0), 1).\n",
      "  warnings.warn(\n"
     ]
    }
   ],
   "source": [
    "esnet = ESNet()"
   ]
  },
  {
   "cell_type": "code",
   "execution_count": 9,
   "id": "d440211d",
   "metadata": {},
   "outputs": [
    {
     "data": {
      "text/plain": [
       "[2, 9, 12]"
      ]
     },
     "execution_count": 9,
     "metadata": {},
     "output_type": "execute_result"
    }
   ],
   "source": [
    "esnet.out_ixs"
   ]
  },
  {
   "cell_type": "code",
   "execution_count": 10,
   "id": "abbf5657",
   "metadata": {},
   "outputs": [
    {
     "name": "stdout",
     "output_type": "stream",
     "text": [
      "[torch.Size([1, 96, 40, 40]), torch.Size([1, 192, 20, 20]), torch.Size([1, 384, 10, 10])]\n"
     ]
    }
   ],
   "source": [
    "esnet.stage_out_channels\n",
    "test_input = torch.from_numpy(np.random.rand(1, 3, 320, 320).astype(np.float32))\n",
    "test_outputs = esnet(test_input)\n",
    "print([a.shape for a in test_outputs])"
   ]
  },
  {
   "cell_type": "code",
   "execution_count": 12,
   "id": "595fa7ea",
   "metadata": {},
   "outputs": [
    {
     "data": {
      "text/plain": [
       "torch.Tensor"
      ]
     },
     "execution_count": 12,
     "metadata": {},
     "output_type": "execute_result"
    }
   ],
   "source": [
    "type(test_outputs[0])"
   ]
  },
  {
   "cell_type": "markdown",
   "id": "def6ae8f",
   "metadata": {},
   "source": [
    "TODO: Factor inverted residual blocks into this codebase"
   ]
  },
  {
   "cell_type": "markdown",
   "id": "c4eb3d4b",
   "metadata": {},
   "source": [
    "## Neck: CSPPAN"
   ]
  },
  {
   "cell_type": "code",
   "execution_count": 5,
   "id": "68e4558b",
   "metadata": {},
   "outputs": [],
   "source": [
    "c = ChannelEqualiser([96, 192, 384], 128)"
   ]
  },
  {
   "cell_type": "code",
   "execution_count": 6,
   "id": "e0e270a6",
   "metadata": {},
   "outputs": [
    {
     "ename": "NameError",
     "evalue": "name 'test_outputs' is not defined",
     "output_type": "error",
     "traceback": [
      "\u001b[0;31m---------------------------------------------------------------------------\u001b[0m",
      "\u001b[0;31mNameError\u001b[0m                                 Traceback (most recent call last)",
      "Input \u001b[0;32mIn [6]\u001b[0m, in \u001b[0;36m<cell line: 1>\u001b[0;34m()\u001b[0m\n\u001b[0;32m----> 1\u001b[0m channel_eq_outputs \u001b[38;5;241m=\u001b[39m c(\u001b[43mtest_outputs\u001b[49m)\n",
      "\u001b[0;31mNameError\u001b[0m: name 'test_outputs' is not defined"
     ]
    }
   ],
   "source": [
    "channel_eq_outputs = c(test_outputs)"
   ]
  },
  {
   "cell_type": "code",
   "execution_count": 11,
   "id": "43f90b32",
   "metadata": {},
   "outputs": [
    {
     "data": {
      "text/plain": [
       "[torch.Size([1, 128, 40, 40]),\n",
       " torch.Size([1, 128, 20, 20]),\n",
       " torch.Size([1, 128, 10, 10])]"
      ]
     },
     "execution_count": 11,
     "metadata": {},
     "output_type": "execute_result"
    }
   ],
   "source": [
    "[c.shape for c in channel_eq_outputs]"
   ]
  },
  {
   "cell_type": "code",
   "execution_count": 15,
   "id": "a9b0a14b",
   "metadata": {},
   "outputs": [],
   "source": [
    "from mmcv.cnn import ConvModule"
   ]
  },
  {
   "cell_type": "code",
   "execution_count": 21,
   "id": "27dbf350",
   "metadata": {},
   "outputs": [],
   "source": [
    "@dataclass\n",
    "class DarknetBottleneck(BaseModule):\n",
    "    in_channels: int = Field(\n",
    "        description=\"The input channels of this Module.\")\n",
    "    out_channels: int = Field(\n",
    "        description=\"The output channels of this Module.\")\n",
    "    kernel_size: int = Field(\n",
    "        default=1, description=\"The kernel size of the convolution.\")\n",
    "    expansion: int = Field(\n",
    "        default=0.5, description=\"Hidden conv block channels relative to output\")\n",
    "    add_identity: bool = Field(\n",
    "        default=True, description=\"Whether to add identity to the out.\")\n",
    "    use_depthwise: bool = Field(\n",
    "        default=False, description=\"Whether to use depthwise separable convolution.\")\n",
    "    conv_cfg: dict = Field(\n",
    "        default=None, description=\"Config dict for 2D convolution layer.\")\n",
    "    norm_cfg: dict = Field(\n",
    "        default_factory=lambda: dict(type='BN'), description=\"Config dict for 2D convolution layer.\") \n",
    "    act_cfg: dict = Field(\n",
    "        default_factory=lambda: dict(type='Swish'), description=\"Config dict for activation layer.\")\n",
    "\n",
    "    def __post_init__(self) -> None:\n",
    "        super().__init__()\n",
    "        \n",
    "    def __post_init_post_parse__(self) -> None:\n",
    "        self.hidden_channels = int(self.out_channels * self.expansion)\n",
    "        self.conv = DepthwiseSeparableConvModule if self.use_depthwise else ConvModule\n",
    "        self.conv1 = ConvModule(\n",
    "            self.in_channels,\n",
    "            self.hidden_channels,\n",
    "            kernel_size=1,\n",
    "            conv_cfg=self.conv_cfg,\n",
    "            norm_cfg=self.norm_cfg,\n",
    "            act_cfg=self.act_cfg\n",
    "        )\n",
    "        self.conv2 = self.conv(\n",
    "            self.hidden_channels,\n",
    "            self.out_channels,\n",
    "            kernel_size=self.kernel_size,\n",
    "            stride=1,\n",
    "            padding=(self.kernel_size - 1) // 2,\n",
    "            conv_cfg=self.conv_cfg,\n",
    "            norm_cfg=self.norm_cfg,\n",
    "            act_cfg=self.act_cfg\n",
    "        )\n",
    "    \n",
    "    def forward(self, x: torch.Tensor) -> list[torch.Tensor]:\n",
    "        input_ = x\n",
    "        out = self.conv1(x)\n",
    "        out = self.conv2(out)\n",
    "        if self.add_identity and self.in_channels == self.out_channels:\n",
    "            return out + identity\n",
    "        return out"
   ]
  },
  {
   "cell_type": "code",
   "execution_count": 22,
   "id": "2464c8a6",
   "metadata": {},
   "outputs": [],
   "source": [
    "dbb = DarknetBottleneck(in_channels=32, out_channels=32)"
   ]
  },
  {
   "cell_type": "code",
   "execution_count": 30,
   "id": "15fe0b64",
   "metadata": {},
   "outputs": [
    {
     "data": {
      "text/plain": [
       "torch.Size([1, 3, 100, 100])"
      ]
     },
     "execution_count": 30,
     "metadata": {},
     "output_type": "execute_result"
    }
   ],
   "source": [
    "dbb(torch.from_numpy(np.random.rand(1, 3, 100, 100)).shape"
   ]
  },
  {
   "cell_type": "code",
   "execution_count": null,
   "id": "96e48cdf",
   "metadata": {},
   "outputs": [],
   "source": [
    "@dataclass\n",
    "class CSPLayer(BaseModule):\n",
    "    in_channels: int\n",
    "    out_channels: int\n",
    "    kernel_size: int = 1\n",
    "    expand_ratio: float = 0.5\n",
    "    expansion: float = 0.5\n",
    "    num_blocks: int = 1\n",
    "    add_identity: bool = True\n",
    "    use_depthwise: bool = False\n",
    "    conv_cfg: Optional[dict]\n",
    "    norm_cfg: Optional[dict] = dict(type='BN', momentum=0.03, eps=0.001)\n",
    "    act_cfg: Optional[dict] = dict(type='Swish')"
   ]
  },
  {
   "cell_type": "code",
   "execution_count": 21,
   "id": "3a455888",
   "metadata": {},
   "outputs": [],
   "source": [
    "@dataclass\n",
    "class CSPPAN(BaseModule):\n",
    "    in_channels: list[int]\n",
    "    out_channels: int\n",
    "    kernel_size: int = Field(default=5, description=\"Conv2D kernel size\")\n",
    "    n_features: int = Field(default=3, description=\"Number of output features of CSPPAN module\")\n",
    "    expansion: float = Field(default=0.5, description=\"...\")"
   ]
  },
  {
   "cell_type": "markdown",
   "id": "e983cd88",
   "metadata": {},
   "source": [
    "## Head: PicoDetHead"
   ]
  },
  {
   "cell_type": "code",
   "execution_count": null,
   "id": "a6105248",
   "metadata": {},
   "outputs": [],
   "source": []
  },
  {
   "cell_type": "code",
   "execution_count": null,
   "id": "ad6dfd80",
   "metadata": {},
   "outputs": [],
   "source": []
  }
 ],
 "metadata": {
  "kernelspec": {
   "display_name": "Python 3 (ipykernel)",
   "language": "python",
   "name": "python3"
  },
  "language_info": {
   "codemirror_mode": {
    "name": "ipython",
    "version": 3
   },
   "file_extension": ".py",
   "mimetype": "text/x-python",
   "name": "python",
   "nbconvert_exporter": "python",
   "pygments_lexer": "ipython3",
   "version": "3.9.5"
  }
 },
 "nbformat": 4,
 "nbformat_minor": 5
}
