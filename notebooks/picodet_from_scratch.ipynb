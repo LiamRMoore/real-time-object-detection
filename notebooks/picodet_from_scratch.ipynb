{
 "cells": [
  {
   "cell_type": "code",
   "execution_count": 1,
   "id": "1e4c8963",
   "metadata": {},
   "outputs": [],
   "source": [
    "# picodet from scratch"
   ]
  },
  {
   "cell_type": "code",
   "execution_count": 2,
   "id": "e85392ad",
   "metadata": {},
   "outputs": [],
   "source": [
    "import sys\n",
    "sys.path.insert(0, \"..\")\n",
    "\n",
    "from src.esnet import ESNet"
   ]
  },
  {
   "cell_type": "code",
   "execution_count": 3,
   "id": "c17ea0a6",
   "metadata": {},
   "outputs": [],
   "source": [
    "from pathlib import Path\n",
    "from typing import Sequence, Optional, Union\n",
    "from pydantic.dataclasses import dataclass\n",
    "\n",
    "import numpy as np\n",
    "import torch\n",
    "import torch.nn as nn\n",
    "from mmcv.cnn import ConvModule\n",
    "from mmcv.runner import BaseModule\n",
    "from mmdet.models.utils import make_divisible"
   ]
  },
  {
   "cell_type": "markdown",
   "id": "12f2aed1",
   "metadata": {},
   "source": [
    "## Backbone: ESNet"
   ]
  },
  {
   "cell_type": "code",
   "execution_count": 4,
   "id": "eee5d6ae",
   "metadata": {},
   "outputs": [
    {
     "name": "stderr",
     "output_type": "stream",
     "text": [
      "/root/.cache/pypoetry/virtualenvs/dev-sZr6PvLR-py3.9/lib/python3.9/site-packages/mmcv/cnn/bricks/hsigmoid.py:31: UserWarning: In MMCV v1.4.4, we modified the default value of args to align with PyTorch official. Previous Implementation: Hsigmoid(x) = min(max((x + 1) / 2, 0), 1). Current Implementation: Hsigmoid(x) = min(max((x + 3) / 6, 0), 1).\n",
      "  warnings.warn(\n"
     ]
    }
   ],
   "source": [
    "esnet = ESNet()"
   ]
  },
  {
   "cell_type": "code",
   "execution_count": 5,
   "id": "d440211d",
   "metadata": {},
   "outputs": [
    {
     "data": {
      "text/plain": [
       "[2, 9, 12]"
      ]
     },
     "execution_count": 5,
     "metadata": {},
     "output_type": "execute_result"
    }
   ],
   "source": [
    "esnet.out_ixs"
   ]
  },
  {
   "cell_type": "code",
   "execution_count": 6,
   "id": "abbf5657",
   "metadata": {},
   "outputs": [
    {
     "name": "stdout",
     "output_type": "stream",
     "text": [
      "[torch.Size([1, 96, 40, 40]), torch.Size([1, 192, 20, 20]), torch.Size([1, 384, 10, 10])]\n"
     ]
    }
   ],
   "source": [
    "esnet.stage_out_channels\n",
    "test_input = torch.from_numpy(np.random.rand(1, 3, 320, 320).astype(np.float32))\n",
    "test_outputs = esnet(test_input)\n",
    "print([a.shape for a in test_outputs])"
   ]
  },
  {
   "cell_type": "code",
   "execution_count": null,
   "id": "b16bd01b",
   "metadata": {},
   "outputs": [],
   "source": []
  }
 ],
 "metadata": {
  "kernelspec": {
   "display_name": "Python 3 (ipykernel)",
   "language": "python",
   "name": "python3"
  },
  "language_info": {
   "codemirror_mode": {
    "name": "ipython",
    "version": 3
   },
   "file_extension": ".py",
   "mimetype": "text/x-python",
   "name": "python",
   "nbconvert_exporter": "python",
   "pygments_lexer": "ipython3",
   "version": "3.9.5"
  }
 },
 "nbformat": 4,
 "nbformat_minor": 5
}
